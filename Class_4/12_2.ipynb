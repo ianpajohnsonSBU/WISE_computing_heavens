{
 "cells": [
  {
   "cell_type": "markdown",
   "metadata": {},
   "source": [
    "# WISE COMPUTING HEAVENS: Intro to Coding in Astronomy #2\n",
    "\n",
    "Instructor: Ian Johnson"
   ]
  },
  {
   "cell_type": "markdown",
   "metadata": {},
   "source": [
    "# Section 1: Review\n",
    "\n",
    "We first learned about the data types:\n",
    "- booleans\n",
    "- integers\n",
    "- floats\n",
    "- strings\n",
    "- lists"
   ]
  },
  {
   "cell_type": "code",
   "execution_count": null,
   "metadata": {},
   "outputs": [],
   "source": [
    "# This is a boolean\n",
    "my_bool = True\n",
    "print(my_bool)\n",
    "\n",
    "# This is an integer\n",
    "my_int = 1\n",
    "print(my_int)\n",
    "\n",
    "# This is a float\n",
    "my_float = 3.14\n",
    "print(my_float)\n",
    "\n",
    "# This is a string\n",
    "my_string = \"How are you?\"\n",
    "print(my_string)\n",
    "\n",
    "# This is a list\n",
    "my_list = [1, 1, 2, 3, 5, 8]\n",
    "print(my_list)"
   ]
  },
  {
   "cell_type": "markdown",
   "metadata": {},
   "source": [
    "We learned loops:\n",
    "- **For Loops**\n",
    "- **While Loops**"
   ]
  },
  {
   "cell_type": "code",
   "execution_count": null,
   "metadata": {},
   "outputs": [],
   "source": [
    "for my_item in my_list[2:4]:\n",
    "    print(my_item)\n",
    "\n",
    "# another better way to loop is with indexes\n",
    "for i in range(len(my_list)):\n",
    "    print(my_list[i])\n",
    "\n",
    "idx = 0\n",
    "while idx < 2:\n",
    "    print(idx)\n",
    "    idx += 1"
   ]
  },
  {
   "cell_type": "markdown",
   "metadata": {},
   "source": [
    "We also learned functions:"
   ]
  },
  {
   "cell_type": "code",
   "execution_count": null,
   "metadata": {},
   "outputs": [],
   "source": [
    "def my_func(input):\n",
    "    output = input**2\n",
    "    return output\n",
    "\n",
    "print(my_func(my_float))"
   ]
  },
  {
   "cell_type": "markdown",
   "metadata": {},
   "source": [
    "And finally we covered the **idea** of **packages** and how to install them"
   ]
  },
  {
   "cell_type": "code",
   "execution_count": null,
   "metadata": {},
   "outputs": [],
   "source": [
    "import numpy as np\n",
    "\n",
    "# use numpy's sine function\n",
    "print(np.sin(np.pi/2))"
   ]
  },
  {
   "cell_type": "markdown",
   "metadata": {},
   "source": [
    "Packages are one of the main motivations to use python. Why spend days coding something for yourself when a kind stranger has done it for you?\n",
    "\n",
    "Each package is in some ways its own specialty and requires practice. For this reason, we will focus on a few packages today while reviewing the basics."
   ]
  },
  {
   "cell_type": "markdown",
   "metadata": {},
   "source": [
    "# Section 2: Numpy\n",
    "\n",
    "Numpy makes math quicker and easier in python. It is largely based in another language **C** which is revered for its speed. Additionally, it allows us to make arguably the most important data type known as **arrays**. \n",
    "\n",
    "Arrays are like finite sized lists, but they can run much faster. They can be used like matrices in linear algebra or looped through just like lists"
   ]
  },
  {
   "cell_type": "code",
   "execution_count": null,
   "metadata": {},
   "outputs": [],
   "source": [
    "# This is a 1D array\n",
    "my_1d_array = np.asarray([1,2,3])\n",
    "print(my_1d_array)\n",
    "print(my_1d_array[1])"
   ]
  },
  {
   "cell_type": "code",
   "execution_count": null,
   "metadata": {},
   "outputs": [],
   "source": [
    "# There are many fancy ways to make arrays such as:\n",
    "print(np.linspace(0,5,11))\n",
    "\n",
    "print(np.zeros(8))\n",
    "\n",
    "print(np.ones(8))\n"
   ]
  },
  {
   "cell_type": "code",
   "execution_count": null,
   "metadata": {},
   "outputs": [],
   "source": [
    "# We can also do operations on same sized arrays\n",
    "\n",
    "print(4 * (np.ones(4) + (np.zeros(4) + 2) ) )"
   ]
  },
  {
   "cell_type": "code",
   "execution_count": null,
   "metadata": {},
   "outputs": [],
   "source": [
    "# We can also make many dimensional arrays useful for simulations/models\n",
    "my_2d_list = [[1, 2],[3, 4]]\n",
    "my_2d_array = np.asarray(my_2d_list)\n",
    "my_2d_array += 1\n",
    "print(my_2d_array)\n",
    "\n",
    "print(my_2d_array[1, 1])"
   ]
  },
  {
   "cell_type": "markdown",
   "metadata": {},
   "source": [
    "How would we loop through an array like this?"
   ]
  },
  {
   "cell_type": "code",
   "execution_count": null,
   "metadata": {},
   "outputs": [],
   "source": [
    "# we can use the ones and zeros functions so that\n",
    "\n",
    "print(np.ones((2,3)))\n"
   ]
  },
  {
   "cell_type": "markdown",
   "metadata": {},
   "source": [
    "Of course, we can do much, much more with numpy arrays. Have some fun with the 3D grid below:"
   ]
  },
  {
   "cell_type": "code",
   "execution_count": null,
   "metadata": {},
   "outputs": [],
   "source": [
    "import numpy as np\n",
    "import matplotlib.pyplot as plt\n",
    "\n",
    "# Create a cube of points\n",
    "n = 5  # Number of points along each axis\n",
    "x = np.linspace(0, 1, n)\n",
    "y = np.linspace(0, 1, n)\n",
    "z = np.linspace(0, 1, n)\n",
    "\n",
    "# Create a grid of points\n",
    "X, Y, Z = np.meshgrid(x, y, z)\n",
    "\n",
    "# Flatten the grid for plotting\n",
    "points = np.vstack((X.ravel(), Y.ravel(), Z.ravel())).T\n",
    "\n",
    "print(points)\n",
    "\n",
    "# Plot the points\n",
    "fig = plt.figure(figsize=(8, 8))\n",
    "ax = fig.add_subplot(111, projection='3d')\n",
    "ax.scatter(points[:, 0], points[:, 1], points[:, 2], c='blue', s=10)\n",
    "\n",
    "# Label the axes\n",
    "ax.set_xlabel(\"X\")\n",
    "ax.set_ylabel(\"Y\")\n",
    "ax.set_zlabel(\"Z\")\n",
    "\n",
    "# Set equal aspect ratio\n",
    "ax.set_box_aspect([1, 1, 1])\n",
    "\n",
    "plt.show()\n"
   ]
  },
  {
   "cell_type": "markdown",
   "metadata": {},
   "source": []
  },
  {
   "cell_type": "markdown",
   "metadata": {},
   "source": [
    "# Section 3: Matplotlib\n",
    "\n",
    "Wait, how are we getting those plots above? It's another package called **Matplotlib**\n",
    "\n",
    "Matplotlib is a library that is most well known for implementing the plotting functions for the language **Matlab** in python. They are useful for communicating results to yourself and others.\n",
    "\n",
    "Let's improve a plot together!"
   ]
  },
  {
   "cell_type": "code",
   "execution_count": null,
   "metadata": {},
   "outputs": [],
   "source": [
    "import matplotlib.pyplot as plt\n",
    "\n",
    "x_vals = np.logspace(1, 2, 100)\n",
    "y_vals = np.log10(x_vals)\n",
    "\n",
    "plt.plot(x_vals, y_vals)\n",
    "plt.show()"
   ]
  },
  {
   "cell_type": "markdown",
   "metadata": {},
   "source": [
    "Hopefully, you know enough of the basics to make a plot of your own! Lets try this out with last session's code."
   ]
  },
  {
   "cell_type": "code",
   "execution_count": null,
   "metadata": {},
   "outputs": [],
   "source": [
    "import numpy as np\n",
    "import matplotlib.pyplot as plt\n",
    "\n",
    "# Constants\n",
    "G = 6.67430e-11  # Gravitational constant in m^3 kg^-1 s^-2\n",
    "\n",
    "def get_period_T(r0, M, m):\n",
    "    \"\"\" Returns orbital period for circular motion\"\"\"\n",
    "    # hint: you can use np.pi for more precision\n",
    "    period_T = 2* np.pi * np.sqrt(r**3/(G*M))\n",
    "    return period_T\n",
    "\n",
    "def circular_orbit(times, r0, T):\n",
    "    \"\"\" Returns the positions of an object in a circular orbit at given times \"\"\"\n",
    "    # Angular velocity (look this up if you don't know)\n",
    "    omega =  2*np.pi/T\n",
    "    \n",
    "    # Calculate the positions (x, y) for each time step\n",
    "    # hint: use np.sin() and np.cos()\n",
    "    x_coords = r0*np.cos(omega*times)\n",
    "    y_coords = r0*np.sin(omega*times)\n",
    "    \n",
    "    return x_coords, y_coords\n",
    "\n",
    "# Parameters\n",
    "M = 1.989e30  # mass of the central body (e.g., Sun) in kg\n",
    "m = 5.972e24  # mass of the orbiting body (e.g., Earth) in kg\n",
    "r0 = 1.0e11  # Radius of the orbit in meters (e.g., 1 AU)\n",
    "\n",
    "T = get_period_T(r0, M, m)\n",
    "\n",
    "# Make the array for times\n",
    "\n",
    "times = # fixme\n",
    "\n",
    "# Calculate the orbital positions\n",
    "x_coords, y_coords = circular_orbit(times, r0, T)\n",
    "\n",
    "# Make the plot from last class\n"
   ]
  },
  {
   "cell_type": "markdown",
   "metadata": {},
   "source": [
    "Now let's try something new: black holes\n",
    "\n",
    "The Schwarzschild radius is:\n",
    "\n",
    "$$R = \\frac{2 G M}{c^2}$$\n",
    "\n",
    "Today, we will see what this looks like in reference to our sun.\n",
    "\n",
    "Your goal is to plot a circle that models the sun and another circle representing the Schwarzschild radius if our sun was a black hole.\n",
    "\n",
    "If you have extra time, you can also compare to earth or ask me for more projects!"
   ]
  },
  {
   "cell_type": "code",
   "execution_count": null,
   "metadata": {},
   "outputs": [],
   "source": [
    "import matplotlib.pyplot as plt\n",
    "import numpy as np\n",
    "\n",
    "# constants\n",
    "M_sun = 1.989e30  # mass of sun in kg\n",
    "G = 6.67430e-11  # Gravitational constant in m^3 kg^-1 s^-2\n",
    "c = 2.998e8 # speed of light in m/s\n",
    "R_sun = 6.957e8  # solar radius in m\n"
   ]
  },
  {
   "cell_type": "markdown",
   "metadata": {},
   "source": []
  }
 ],
 "metadata": {
  "kernelspec": {
   "display_name": "base",
   "language": "python",
   "name": "python3"
  },
  "language_info": {
   "codemirror_mode": {
    "name": "ipython",
    "version": 3
   },
   "file_extension": ".py",
   "mimetype": "text/x-python",
   "name": "python",
   "nbconvert_exporter": "python",
   "pygments_lexer": "ipython3",
   "version": "3.10.13"
  }
 },
 "nbformat": 4,
 "nbformat_minor": 2
}
