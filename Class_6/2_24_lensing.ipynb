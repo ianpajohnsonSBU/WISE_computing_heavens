{
 "cells": [
  {
   "cell_type": "markdown",
   "metadata": {},
   "source": [
    "# WISE COMPUTING HEAVENS: Graviational Lensing and Review\n",
    "Instructor: Ian Johnson\n",
    "\n",
    "Date: Feb 2 2025"
   ]
  },
  {
   "cell_type": "markdown",
   "metadata": {},
   "source": [
    "Welcome back to coding! Let's get reaquainted with python!"
   ]
  },
  {
   "cell_type": "markdown",
   "metadata": {},
   "source": [
    "First, let's define some variables!"
   ]
  },
  {
   "cell_type": "code",
   "execution_count": 1,
   "metadata": {},
   "outputs": [],
   "source": [
    "# Here are physical constants: Do not change unless you want a different universe\n",
    "G = 4.3e-6   # Gravitational constant in kpc (km/s)^2 / solar mass\n",
    "c = 3e5      # Speed of light in km/s\n",
    "\n",
    "# These are astrophysical parameters: You can change these later\n",
    "mass = 1e12  # Mass of the lensing object in solar masses\n",
    "distance_lens = 5000  # Distance to the lens in kpc\n",
    "distance_source = 10000  # Distance to the source in kpc"
   ]
  },
  {
   "cell_type": "markdown",
   "metadata": {},
   "source": [
    "Now, let's cover some physics!\n",
    "\n",
    "(Wikipedia is a good source although it can be terse: https://en.wikipedia.org/wiki/Gravitational_lensing_formalism)\n",
    "\n",
    "Our angle of deflection will be:\n",
    "\n",
    "$$\\alpha = \\frac{4GM}{c^2 b}$$\n",
    "\n",
    "What does our impact parameter $b$ mean?"
   ]
  },
  {
   "cell_type": "code",
   "execution_count": null,
   "metadata": {},
   "outputs": [],
   "source": [
    "def deflection_angle(mass, impact_parameter):\n",
    "    \"\"\"Calculate the bending angle of light in radians.\"\"\"\n",
    "    alpha = # practice arithmatic in python\n",
    "    return # remember me?"
   ]
  },
  {
   "cell_type": "markdown",
   "metadata": {},
   "source": [
    "While we can do this many ways, let's make a list of impact parameters $b$"
   ]
  },
  {
   "cell_type": "code",
   "execution_count": null,
   "metadata": {},
   "outputs": [],
   "source": [
    "# initialize a list\n",
    "impact_parameters_list = []\n",
    "\n",
    "# spacing between our rays\n",
    "impact_parameters_spacing = 0.5 #kpc\n",
    "\n",
    "num_rays = # pick a number under 10 for now \n",
    "\n",
    "for n in range(1, num_rays + 1, 1):\n",
    "    new_pos_param = n * impact_parameters_spacing\n",
    "    new_neg_param = # write me\n",
    "\n",
    "    # fill in the appends\n",
    "    impact_parameters_list.append()\n",
    "    impact_parameters_list.append()"
   ]
  },
  {
   "cell_type": "markdown",
   "metadata": {},
   "source": [
    "Python is all about its packages, so let's load some in in different ways"
   ]
  },
  {
   "cell_type": "code",
   "execution_count": null,
   "metadata": {},
   "outputs": [],
   "source": [
    "import numpy as np\n",
    "import matplotlib.pyplot as plt"
   ]
  },
  {
   "cell_type": "markdown",
   "metadata": {},
   "source": [
    "How are these different? Discuss"
   ]
  },
  {
   "cell_type": "markdown",
   "metadata": {},
   "source": [
    "Now is for the main project: calculating the path of the light!\n",
    "\n",
    "Work together and keep in mind you won't have to type much at all! The concepts behind what you will write are tricky though, so you should try to understand the system well before you start typing\n",
    "\n",
    "Advice:\n",
    "- numpy has trig functions like np.sin() in radians\n",
    "- The order of objects is: observer (left), lens, then source (right)\n",
    "- Between the lens and source, the lines should be horizontal\n",
    "- Between the observer and lens they should be at a varying slope\n",
    "\n",
    "Ask me for any help!"
   ]
  },
  {
   "cell_type": "code",
   "execution_count": null,
   "metadata": {},
   "outputs": [],
   "source": [
    "light_paths = []\n",
    "\n",
    "light_path_x = np.linspace(0, distance_source, 100)\n",
    "\n",
    "\n",
    "for b in impact_parameters_list:\n",
    "    angle_alpha = deflection_angle(mass, b)\n",
    "    light_path_y = []\n",
    "    for x in light_path_x:\n",
    "        if x >= distance_lens:\n",
    "            # fill in append\n",
    "            light_path_y.append()\n",
    "\n",
    "        else:\n",
    "            distance_to_lens = # from this x point to the lens\n",
    "            path_deviate_y = # use your trig skills here\n",
    "            # fill in append\n",
    "            light_path_y.append()\n",
    "\n",
    "    light_paths.append((light_path_x, light_path_y))\n",
    "    "
   ]
  },
  {
   "cell_type": "markdown",
   "metadata": {},
   "source": [
    "I will do the plotting tedium for you, but you should fill in the main plotting function.\n",
    "\n",
    "This plot is okay, but if you'd like, you can make it much much better!"
   ]
  },
  {
   "cell_type": "code",
   "execution_count": null,
   "metadata": {},
   "outputs": [],
   "source": [
    "colors = plt.cm.viridis(np.linspace(0, 1, num_rays))  # Assign colors to every pair\n",
    "\n",
    "i = 0\n",
    "for lp in light_paths:\n",
    "    color = colors[i // 2]\n",
    "    # fill in below and remember to color\n",
    "    plt.plot()\n",
    "    i += 1 # what is this\n",
    "    \n",
    "\n",
    "plt.scatter(distance_lens, 0, color='r', marker='o', s=100, label='Lens')\n",
    "plt.scatter(distance_source, 0, color='b', marker='*', s=100, label='Source')\n",
    "plt.scatter(0, 0, color='black', marker='o', s=100, label='Observer')\n",
    "\n",
    "plt.xlabel(\"X Position (kpc)\")\n",
    "plt.ylabel(\"Y Position (kpc)\")\n",
    "plt.title(\"Simulated Light Rays Bending Around a Massive Object\")\n",
    "plt.legend(loc=\"lower right\")\n",
    "plt.grid(True)\n",
    "plt.show()"
   ]
  },
  {
   "cell_type": "markdown",
   "metadata": {},
   "source": [
    "# Congrats!\n",
    "\n",
    "Now you should test our model by changing paramters like lens mass and the spacing between light rays.\n",
    "\n",
    "What happens? Is this a bug or is it physical?"
   ]
  }
 ],
 "metadata": {
  "language_info": {
   "name": "python"
  }
 },
 "nbformat": 4,
 "nbformat_minor": 2
}
