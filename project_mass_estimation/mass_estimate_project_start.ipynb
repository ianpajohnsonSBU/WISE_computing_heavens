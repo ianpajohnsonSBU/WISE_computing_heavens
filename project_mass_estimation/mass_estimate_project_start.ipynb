{
 "cells": [
  {
   "cell_type": "markdown",
   "metadata": {},
   "source": [
    "# WISE COMPUTING HEAVENS: \n",
    "## Project: Estimating Black Hole Masses\n",
    "Instructor: Ian Johnson\n",
    "\n",
    "Date: March 24 2025"
   ]
  },
  {
   "cell_type": "code",
   "execution_count": null,
   "metadata": {},
   "outputs": [],
   "source": [
    "import numpy as np \n",
    "import matplotlib.pyplot as plt\n",
    "from scipy.signal import butter, filtfilt, spectrogram"
   ]
  },
  {
   "cell_type": "code",
   "execution_count": null,
   "metadata": {},
   "outputs": [],
   "source": [
    "# Load data\n",
    "# Find your full file path\n",
    "data = np.loadtxt(\"H-H1_GWOSC_16KHZ_R1-1126259447-32.txt\")\n",
    "\n",
    "# Define time array\n",
    "fs = 16384  # Sampling rate in Hz\n",
    "duration = 32  # Seconds\n",
    "t = np.linspace(0, duration, len(data), endpoint=False)\n",
    "\n"
   ]
  },
  {
   "cell_type": "code",
   "execution_count": null,
   "metadata": {},
   "outputs": [],
   "source": [
    "# Cut the data around the merger \n",
    "start_time = 0\n",
    "end_time = 32\n",
    "\n",
    "# Find the indices corresponding to the time range\n",
    "start_idx = int(start_time * fs)\n",
    "end_idx = int(end_time * fs)\n",
    "\n",
    "# Slice the data and time array to the desired range\n",
    "data_cut = data[start_idx:end_idx]\n",
    "t_cut = t[start_idx:end_idx]\n",
    "\n",
    "# Plot the sliced data\n",
    "plt.figure(figsize=(10, 4))\n",
    "plt.plot(t_cut, data_cut, label=\"Cut Data\", alpha=0.7)\n",
    "plt.xlabel(\"Time (s)\")\n",
    "plt.ylabel(\"Strain\")\n",
    "plt.title(\"Gravitational Wave Data\")\n",
    "plt.legend()\n",
    "plt.show()\n"
   ]
  },
  {
   "cell_type": "code",
   "execution_count": null,
   "metadata": {},
   "outputs": [],
   "source": [
    "# Bandpass filter (20–300 Hz)\n",
    "def butter_bandpass_filter(data, lowcut=20, highcut=300, fs=4096, order=4):\n",
    "    nyquist = 0.5 * fs\n",
    "    low = lowcut / nyquist\n",
    "    high = highcut / nyquist\n",
    "    b, a = butter(order, [low, high], btype=\"band\")\n",
    "    return filtfilt(b, a, data)\n",
    "\n",
    "\n",
    "# Apply filter\n",
    "filtered_data = butter_bandpass_filter(data_cut, fs=fs, lowcut=30, highcut=300)\n"
   ]
  },
  {
   "cell_type": "code",
   "execution_count": null,
   "metadata": {},
   "outputs": [],
   "source": [
    "# Compute FFT of the cleaned signal\n",
    "N = len(filtered_data)\n",
    "fft_vals = np.fft.rfft(filtered_data)  # Compute real FFT\n",
    "freqs = np.fft.rfftfreq(N, 1/fs)  # Frequency axis\n",
    "\n",
    "# Plot power spectrum\n",
    "plt.figure(figsize=(10, 4))\n",
    "plt.plot(freqs, np.abs(fft_vals), color=\"blue\", label=\"Fourier Transform\")\n",
    "plt.xlim(0, 500)  # Focus on relevant GW frequency range\n",
    "plt.xlabel(\"Frequency (Hz)\")\n",
    "plt.ylabel(\"Magnitude\")\n",
    "# plt.ylim([0, np.max(np.abs(fft_vals))])\n",
    "plt.yscale('log')\n",
    "plt.title(\"Fourier Transform of Cleaned GW150914 Signal\")\n",
    "plt.legend()\n",
    "plt.show()"
   ]
  },
  {
   "cell_type": "code",
   "execution_count": null,
   "metadata": {},
   "outputs": [],
   "source": [
    "# Compute the spectrogram for 2D color plot\n",
    "offset_filtered_data = filtered_data - np.mean(filtered_data)\n",
    "\n",
    "nperseg_spec = fs//4  # Window size for spectrogram\n",
    "f_spec, t_spec, Sxx = spectrogram(offset_filtered_data, fs, nperseg=nperseg_spec, noverlap=fs//8)\n",
    "\n",
    "Sxx_normalized = Sxx/np.max(Sxx)\n",
    "\n",
    "y_plot_min = 30\n",
    "y_plot_max = 300\n",
    "\n",
    "mask = (f_spec > y_plot_min) & (f_spec < y_plot_max)  # Create a boolean mask\n",
    "Sxx_filtered = Sxx_normalized[mask, :]  # Apply mask to the correct axis\n",
    "f_spec_filtered = f_spec[mask]  # Keep frequency axis consistent\n",
    "\n",
    "Sxx_filtered = Sxx_filtered/np.max(Sxx_filtered)\n",
    "\n",
    "# Adjust color limits for better contrast\n",
    "vmin, vmax = np.percentile(Sxx_filtered, [90, 98]) # if all same color change to [1, 99]\n",
    "\n",
    "\n",
    "# Plot the 2D colorized PSD (Spectrogram)\n",
    "plt.pcolormesh(t_spec, f_spec_filtered, Sxx_filtered, shading=\"auto\", cmap=\"inferno\", vmin=vmin, vmax=vmax)\n",
    "plt.colorbar(label=\"Normalized Power Spectral Density\")\n",
    "plt.hlines(150, 0, end_time - start_time, colors=\"white\", label=\"horizontal line\") # example horizontal line\n",
    "plt.xlabel(\"Time (s)\")\n",
    "plt.ylabel(\"Frequency (Hz)\")\n",
    "plt.yscale(\"log\")\n",
    "plt.ylim(y_plot_min, y_plot_max)  # Focus on relevant GW range\n",
    "plt.title(\"Spectrogram of Filtered GW150914 Data (PSD over Time)\")\n",
    "plt.grid(True)\n",
    "plt.show()"
   ]
  },
  {
   "cell_type": "markdown",
   "metadata": {},
   "source": [
    "The Math you will want is:\n",
    "Black Hole Schwarzchild Radius\n",
    "$$R_{g} = \\frac{2 G M }{c ^2}$$\n",
    "\n",
    "The innermost stable circular orbit (ISCO) is:\n",
    "$$R_{ISCO}=3 R_g$$\n",
    "\n",
    "This is the closest orbit we can get gravitational waves from the inspiral phase.\n",
    "\n",
    "Circular period around mass M at radius R is:\n",
    "$$T = \\sqrt{\\frac{4 \\pi^2 R^3}{G M}}$$\n",
    "\n",
    "The orbital frequency at this point is:\n",
    "$$f_{orb} = 1/T$$\n",
    "\n",
    "The gravitaional waves have the simple relation:\n",
    "$$f_{GW} = 2f_{orb}$$\n",
    "\n",
    "\n",
    "Some new math that will improve your work is reduced mass coordinates. That is we can describe a binary system with masses $M_1$ and $M_2$ to orbit a single imagined body of the reduced mass:\n",
    "\n",
    "$$\\mu = \\frac{M_1 M_2}{M_1 + M_2}$$\n",
    "\n",
    "Thus, $\\mu$ can replace a single body $M$ in the earlier equations.\n",
    "\n",
    "This is coded below, but you may want to modify it depending on how your project evolves."
   ]
  },
  {
   "cell_type": "code",
   "execution_count": null,
   "metadata": {},
   "outputs": [],
   "source": [
    "unit_G = 6.67e-8\n",
    "unit_c = 2.998e10\n",
    "unit_Msun = 2.989e33\n",
    "def calc_R_schwarz(M_suns):\n",
    "    return 2 * unit_G * M_suns * unit_Msun /unit_c**2\n",
    "\n",
    "def calc_reduced_mass(M1, M2):\n",
    "    return (M1*M2)/(M1+M2)\n",
    "\n",
    "def calc_period(M, R):\n",
    "    return ((4*np.pi**2 * R**3)/(unit_G * unit_Msun * M))**(1/2)"
   ]
  },
  {
   "cell_type": "code",
   "execution_count": null,
   "metadata": {},
   "outputs": [],
   "source": [
    "reduced_mass = # fixMe\n",
    "R_ISCO = # fixMe\n",
    "orbital_freq = 1/calc_period() # fill me in\n",
    "GW_freq = # fixMe\n",
    "\n",
    "\n",
    "print(reduced_mass, \"Solar Masses\")\n",
    "\n",
    "print(R_ISCO, \"cm\")\n",
    "\n",
    "print(\"f_orb = \", orbital_freq, \"Hz\")\n",
    "\n",
    "print(\"f_GW = \", GW_freq, \"Hz\")"
   ]
  }
 ],
 "metadata": {
  "kernelspec": {
   "display_name": "base",
   "language": "python",
   "name": "python3"
  },
  "language_info": {
   "codemirror_mode": {
    "name": "ipython",
    "version": 3
   },
   "file_extension": ".py",
   "mimetype": "text/x-python",
   "name": "python",
   "nbconvert_exporter": "python",
   "pygments_lexer": "ipython3",
   "version": "3.10.13"
  }
 },
 "nbformat": 4,
 "nbformat_minor": 2
}
