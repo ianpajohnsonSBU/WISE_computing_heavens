{
 "cells": [
  {
   "cell_type": "markdown",
   "id": "601f45a9",
   "metadata": {},
   "source": [
    "# WISE COMPUTING HEAVENS: Intro to Coding Astronomy\n",
    "\n",
    "Instructor: Ian Johnson"
   ]
  },
  {
   "cell_type": "markdown",
   "id": "d92ff767",
   "metadata": {},
   "source": [
    "# Section 1: Welcome!\n",
    "\n",
    "This is a Jupyter Notebook. You briefly saw this before, but now it is time to learn about all it can do while also getting comfortable with the basics of coding!\n",
    "\n",
    "Jupyter notebooks are halfway between a text (.txt) file and a python file (.py) and have the (.ipynb) extension. They can do either in two types of boxes called **Cells**.\n",
    "\n",
    "As I am doing right now, you can type text into a Jupyter notebook. Try typing \"Hello\" in new cell by adding one below. Press  **SHIFT + ENTER** to make your text \"run\" and look like this."
   ]
  },
  {
   "cell_type": "markdown",
   "id": "308feee0",
   "metadata": {},
   "source": [
    "Now Jupyter can write much more in what we call \"Markdown\". You have seen some examples above with: \n",
    "# Titles\n",
    "and \n",
    "**BOLD**.\n",
    "\n",
    "However, one of the main advantages to scientists Jupyter notebooks offer is a way to format equations such as $$E = m c^2$$ or even as complex as \n",
    "$$ds^2 = -e^\\lambda dr^2 - r^2 d\\theta^2 - r^2 \\sin^2 \\theta d\\phi^2 + e^\\nu dt^2$$ \n",
    "or \n",
    "$$\\frac{dP}{dr} = \\frac{-G m \\rho}{r^2} \\left( 1 + \\frac{P}{\\rho c^2} \\right) \\left( 1 + \\frac{4 \\pi r^3 P}{m c^2} \\right) \\left( 1 - \\frac{2 Gm}{r c^2} \\right)^{-1}$$\n",
    "\n",
    "You can try youself by writing the Pythagorian theorem below. Put your equation between double dollar signs like:\n",
    " **\\$\\$[equation]\\$\\$**"
   ]
  },
  {
   "cell_type": "markdown",
   "id": "de8b37a2",
   "metadata": {},
   "source": [
    "It is worth note that the typesetting format that we are using is derived from $\\LaTeX$ which is the most ubiquitous way to write papers in STEM. It is an art of its own to write documents in this format and the idiosyncrasies take a while to learn.\n",
    "\n",
    "As such, we can do so much more in the text side of Jupyter, but it will be more intereseting to learn how to **Code**.\n",
    "\n",
    "As afformentioned, Jupyter runs on python which is an object oriented language. Computer scientists will find this nuance more valuable, but most scientist just want an easy way to write equations and make plots."
   ]
  },
  {
   "cell_type": "markdown",
   "id": "0495f811",
   "metadata": {},
   "source": [
    "# Section 2: Coding"
   ]
  },
  {
   "cell_type": "markdown",
   "id": "f2f7eaac",
   "metadata": {},
   "source": [
    "Coding in notebooks is as simple as adding another cell of the python type as shown below:"
   ]
  },
  {
   "cell_type": "code",
   "execution_count": null,
   "id": "eefeebab",
   "metadata": {},
   "outputs": [],
   "source": [
    "print(\"Hello World!\")"
   ]
  },
  {
   "cell_type": "markdown",
   "id": "0e03edb4",
   "metadata": {},
   "source": [
    "So what just happened? Let's break it down together!"
   ]
  },
  {
   "cell_type": "markdown",
   "id": "883f52a7",
   "metadata": {},
   "source": [
    "# Section 2.1: Data Types\n",
    "\n",
    "Python has countless data types that you can use. For now we will focus on:\n",
    "- booleans\n",
    "- integers\n",
    "- floats\n",
    "- strings\n",
    "- lists\n",
    "\n",
    "While we will no doubt cover many more, these should get you started. Remember you run code with **SHIFT + ENTER** too!"
   ]
  },
  {
   "cell_type": "code",
   "execution_count": null,
   "id": "86725fb1",
   "metadata": {},
   "outputs": [],
   "source": [
    "# By the way you can comment code with a pound sign (hashtag)\n",
    "# This is a boolean\n",
    "my_bool = True\n",
    "print(my_bool)\n",
    "\n",
    "# This is an integer\n",
    "my_int = 1\n",
    "print(my_int)\n",
    "\n",
    "# This is a float\n",
    "my_float = 3.14\n",
    "print(my_float)\n",
    "\n",
    "# This is a string\n",
    "my_string = \"How are you?\"\n",
    "print(my_string)\n",
    "\n",
    "# This is a list\n",
    "my_list = [1, 1, 2, 3, 5, 8]\n",
    "print(my_list)"
   ]
  },
  {
   "cell_type": "markdown",
   "id": "9a22d567",
   "metadata": {},
   "source": [
    "Now data that can't change isn't very scientific, so let's consider some basic operations"
   ]
  },
  {
   "cell_type": "code",
   "execution_count": null,
   "id": "0961ff82",
   "metadata": {},
   "outputs": [],
   "source": [
    "print((my_int + my_int) ** my_float)\n",
    "print(2 == my_int)\n",
    "print(my_list[0])\n",
    "print(my_string +  \" \" + my_string)"
   ]
  },
  {
   "cell_type": "markdown",
   "id": "a4f22d6e",
   "metadata": {},
   "source": [
    "But there are weirder things: "
   ]
  },
  {
   "cell_type": "code",
   "execution_count": null,
   "id": "11b62b8a",
   "metadata": {},
   "outputs": [],
   "source": [
    "print(my_bool == my_int)"
   ]
  },
  {
   "cell_type": "markdown",
   "id": "1e05479b",
   "metadata": {},
   "source": [
    "Why is this so? Let us investigate!"
   ]
  },
  {
   "cell_type": "markdown",
   "id": "5d582eea",
   "metadata": {},
   "source": [
    "# Section 2.2: Looping Around\n",
    "\n",
    "Now we will discuss some basic coding structures in python starting with loops!\n",
    "\n",
    "There are two ways to make loops:\n",
    "- **For Loops**\n",
    "- **While Loops**\n",
    "\n",
    "For Loops work by iterating through a **iterable**. The main iterable you know is the List.    "
   ]
  },
  {
   "cell_type": "code",
   "execution_count": null,
   "id": "1eda85ce",
   "metadata": {},
   "outputs": [],
   "source": [
    "for my_item in my_list:\n",
    "    print(my_item)"
   ]
  },
  {
   "cell_type": "code",
   "execution_count": null,
   "id": "a4236fcf",
   "metadata": {},
   "outputs": [],
   "source": [
    "# another common way to loop is with indexes\n",
    "for i in range(len(my_list)):\n",
    "    print(my_list[i])"
   ]
  },
  {
   "cell_type": "markdown",
   "id": "2ce268f6",
   "metadata": {},
   "source": [
    "While loops are very similar but can run forever depending on a truth statement. They're rarer in most scientific applications since they generally are used for terminating processes (although there are more uses).\n",
    "\n",
    "Let's try below!"
   ]
  },
  {
   "cell_type": "code",
   "execution_count": null,
   "id": "5c660547",
   "metadata": {},
   "outputs": [],
   "source": [
    "idx = 0\n",
    "while idx < 3:\n",
    "    print(idx)\n",
    "    idx += 1"
   ]
  },
  {
   "cell_type": "markdown",
   "id": "b58776a0",
   "metadata": {},
   "source": [
    "**WARNING:** While loops can easily continue forever which is bad for your computer and worse for your code running properly."
   ]
  },
  {
   "cell_type": "markdown",
   "id": "2abeea51",
   "metadata": {},
   "source": [
    "# Section 2.3: Functions\n",
    "\n",
    "Functions are the lifeblood of scientific computing and make long processes compact.\n",
    "\n",
    "Functions take in a series of inputs and return an output. This is structured like:"
   ]
  },
  {
   "cell_type": "code",
   "execution_count": null,
   "id": "8479bce8",
   "metadata": {},
   "outputs": [],
   "source": [
    "def my_func(input):\n",
    "    output = input**2\n",
    "    return output\n",
    "\n",
    "print(my_func(my_float))\n",
    "\n",
    "# We can also have multiple inputs and return a list\n",
    "\n",
    "def my_second_func(input1, input2):\n",
    "    output = [my_func(input1), my_func(input2)]\n",
    "    return output\n",
    "\n",
    "print(my_second_func(my_float, my_int))\n"
   ]
  },
  {
   "cell_type": "markdown",
   "id": "74c078eb",
   "metadata": {},
   "source": [
    "Let's try to combine some of our knowledge!"
   ]
  },
  {
   "cell_type": "markdown",
   "id": "d98a1bd7",
   "metadata": {},
   "source": [
    "# Section 2.4: Packages\n",
    "\n",
    "Python's greatest advanage is the vast libraries of premade code. These libraries or \"packages\" can take a while to learn and we will practice a few. For now though, we will just learn the basics.\n",
    "\n",
    "The package \"Numpy\" is useful for making python run more efficiently. It also allows us to make **arrays** which are like more strict lists. This tradeoff comes with many advantages, of course. \n",
    "\n",
    "The basic structure for importing libraries is below"
   ]
  },
  {
   "cell_type": "code",
   "execution_count": null,
   "id": "9ca6a49f",
   "metadata": {},
   "outputs": [],
   "source": [
    "import numpy as np\n",
    "\n",
    "# use numpy's tangent function\n",
    "print(np.tan(my_float))\n",
    "\n",
    "# Often we just import one function to keep code clean\n",
    "from math import sqrt\n",
    "print(sqrt(4))\n"
   ]
  },
  {
   "cell_type": "markdown",
   "id": "ab9fd263",
   "metadata": {},
   "source": [
    "While we will learn and practice more, you should be ready to attempt a small project by yourselves!"
   ]
  },
  {
   "cell_type": "markdown",
   "id": "01a00ae8",
   "metadata": {},
   "source": [
    "# Section 3: Project\n",
    "\n",
    "We will now be solving for orbital motion of the earth around the sun. You will find the equation $$T = 2\\pi \\sqrt{\\frac{R^3}{G M}}$$ quite useful. Please ask for help! \n",
    "\n",
    "One parameter may not be needed. What is it? Why do you think it is extraneous? \n",
    "\n",
    "If you finish early, look up Kepler's equations and try to implement elliptical motion. This is much, much more complicated, so I have a premade solution you can refer to. \n",
    "\n",
    "If you just have a bit of time to kill, try modifying your code to work for several values using a for loop. Do these extra tasks in a new cell."
   ]
  },
  {
   "cell_type": "code",
   "execution_count": null,
   "id": "cb2d48f2",
   "metadata": {},
   "outputs": [],
   "source": [
    "import numpy as np\n",
    "import matplotlib.pyplot as plt\n",
    "\n",
    "# Constants\n",
    "G = 6.67430e-11  # Gravitational constant in m^3 kg^-1 s^-2\n",
    "\n",
    "def get_period_T(r0, M, m):\n",
    "    \"\"\" Returns orbital period for circular motion\"\"\"\n",
    "    # hint: you can use np.pi for more precision\n",
    "    period_T = # fixme\n",
    "    return period_T\n",
    "\n",
    "def circular_orbit(times, r0, T):\n",
    "    \"\"\" Returns the positions of an object in a circular orbit at given times \"\"\"\n",
    "    # Angular velocity (look this up if you don't know)\n",
    "    omega =  # fixme\n",
    "    \n",
    "    # Calculate the positions (x, y) for each time step\n",
    "    # hint: use np.sin() and np.cos()\n",
    "    x_coords = # fixme\n",
    "    y_coords = # fixme\n",
    "    \n",
    "    return x_coords, y_coords\n",
    "\n",
    "# Parameters\n",
    "M = 1.989e30  # mass of the central body (e.g., Sun) in kg\n",
    "m = 5.972e24  # mass of the orbiting body (e.g., Earth) in kg\n",
    "r0 = 1.0e11  # Radius of the orbit in meters (e.g., 1 AU)\n",
    "\n",
    "T = get_period_T(r0, M, m)\n",
    "\n",
    "times = np.linspace(0, T, 1000)  # Time array for one full orbit\n",
    "\n",
    "# Calculate the orbital positions\n",
    "x_coords, y_coords = circular_orbit(times, r0, T)\n",
    "\n",
    "# Plot the orbit\n",
    "plt.figure(figsize=(6,6))\n",
    "plt.plot(x_coords, y_coords, label=\"Circular Orbit\")\n",
    "plt.scatter(0, 0, color='orange', label=\"Central Body (M)\")\n",
    "plt.gca().set_aspect('equal', adjustable='box')\n",
    "plt.xlabel(\"x (m)\")\n",
    "plt.ylabel(\"y (m)\")\n",
    "plt.title(\"Circular Orbit of an Object\")\n",
    "plt.legend()\n",
    "plt.grid(True)\n",
    "plt.show()\n"
   ]
  }
 ],
 "metadata": {
  "kernelspec": {
   "display_name": "base",
   "language": "python",
   "name": "python3"
  },
  "language_info": {
   "codemirror_mode": {
    "name": "ipython",
    "version": 3
   },
   "file_extension": ".py",
   "mimetype": "text/x-python",
   "name": "python",
   "nbconvert_exporter": "python",
   "pygments_lexer": "ipython3",
   "version": "3.10.13"
  }
 },
 "nbformat": 4,
 "nbformat_minor": 5
}
