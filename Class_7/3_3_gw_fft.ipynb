{
 "cells": [
  {
   "cell_type": "markdown",
   "metadata": {},
   "source": [
    "# WISE COMPUTING HEAVENS: Graviational Waves and the Fast Fourier Transform (FFT)\n",
    "Instructor: Ian Johnson\n",
    "\n",
    "Date: March 3 2025"
   ]
  },
  {
   "cell_type": "markdown",
   "metadata": {},
   "source": [
    "Today we will learn about one of the most important tools in signal analysis and the modern world: The Fourier Transform\n",
    "\n",
    "Let us just start with a simple plotting of a sine wave."
   ]
  },
  {
   "cell_type": "code",
   "execution_count": null,
   "metadata": {},
   "outputs": [],
   "source": [
    "import numpy as np \n",
    "import matplotlib.pyplot as plt"
   ]
  },
  {
   "cell_type": "code",
   "execution_count": null,
   "metadata": {},
   "outputs": [],
   "source": [
    "start = # 0\n",
    "end = # 2pi radian\n",
    "steps_number = # up to you\n",
    "angles = np.linspace(start, end, steps_number)\n",
    "\n",
    "plt.plot(#x, #y)\n",
    "# add additional plotting info if you would like (grid is always nice)\n",
    "plt.show()"
   ]
  },
  {
   "cell_type": "markdown",
   "metadata": {},
   "source": [
    "All waves can be thought about as adding these simple waves together. \n",
    "\n",
    "First let us consider what it is like to plot different periods/frequencies."
   ]
  },
  {
   "cell_type": "code",
   "execution_count": null,
   "metadata": {},
   "outputs": [],
   "source": [
    "start = 0\n",
    "end =10\n",
    "steps_number = 1000\n",
    "times = np.linspace(start, end, steps_number)\n",
    "\n",
    "period1 = 10 # sec\n",
    "freq1 = 1/period1 #Hz\n",
    "sine_wave1 = np.sin(2 * np.pi * freq1 * times)\n",
    "plt.plot(times, sine_wave1)\n",
    "\n",
    "\n",
    "# Do for another frequency \n",
    "\n",
    "\n",
    "plt.grid(True)\n",
    "plt.title('Basic Sine Wave')"
   ]
  },
  {
   "cell_type": "markdown",
   "metadata": {},
   "source": [
    "What happens if we add these waves together?"
   ]
  },
  {
   "cell_type": "code",
   "execution_count": null,
   "metadata": {},
   "outputs": [],
   "source": [
    "plt.plot(times, sine_wave2+sine_wave1)\n",
    "plt.grid(True)\n",
    "plt.title('Basic Sine Wave')"
   ]
  },
  {
   "cell_type": "markdown",
   "metadata": {},
   "source": [
    "This alone is perhaps not a revelation, but we can make much less \"wavy\" periodic curves by expanding this idea.\n",
    "\n",
    "Run the code below to see the same process make a square wave — a result extremely important to electrical engineers."
   ]
  },
  {
   "cell_type": "code",
   "execution_count": null,
   "metadata": {},
   "outputs": [],
   "source": [
    "# Define time domain\n",
    "t = np.linspace(0, 2*np.pi, 1000)  # One period\n",
    "\n",
    "# Number of terms in the Fourier series\n",
    "n_terms = 20  \n",
    "\n",
    "# Initialize square wave approximation\n",
    "square_wave = np.zeros_like(t)\n",
    "\n",
    "# Construct Fourier series (only odd harmonics contribute)\n",
    "for k in range(1, n_terms * 2, 2):  \n",
    "    square_wave += np.sin(k * t) / k\n",
    "\n",
    "# Scale to normalize\n",
    "square_wave *= 4 / np.pi\n",
    "\n",
    "plt.plot(t, square_wave, label=f'{n_terms} terms')\n",
    "plt.xlabel('Time')\n",
    "plt.ylabel('Amplitude')\n",
    "plt.title('Square Wave Approximation using Sine Waves')\n",
    "plt.legend()\n",
    "plt.grid(True)\n",
    "plt.show()\n"
   ]
  },
  {
   "cell_type": "markdown",
   "metadata": {},
   "source": [
    "## Gravitational Waves\n",
    "\n",
    "This treatment goes for water waves, sound waves, electral waves, and even graviational waves.\n",
    "\n",
    "Let's design a simple model for gravitational waves:"
   ]
  },
  {
   "cell_type": "code",
   "execution_count": null,
   "metadata": {},
   "outputs": [],
   "source": [
    "def generate_GW_chirp(df=.1, dt=0.01, duration=10.0, f_start=10, f_end=100):\n",
    "    nt = int(np.floor(duration / dt))\n",
    "    times = np.linspace(0, duration, nt)\n",
    "    \n",
    "    # Frequency increases with time\n",
    "    freqs = f_start + (f_end - f_start) * (times / duration)\n",
    "    \n",
    "    chirp_signal = np.zeros(nt)\n",
    "    for i, t in enumerate(times):\n",
    "        coeff = freqs[i]  # Linear Scaling coefficient\n",
    "        chirp_signal[i] = coeff * np.sin(2 * np.pi * freqs[i] * t)\n",
    "    \n",
    "    return times, chirp_signal\n",
    "\n",
    "# Generate and plot the chirp signal\n",
    "t, strain = generate_GW_chirp()\n",
    "\n",
    "plt.plot(t, strain)\n",
    "plt.xlabel(\"Time (s)\")\n",
    "plt.ylabel(\"Strain\")\n",
    "plt.title(\"Gravitational Wave Chirp Signal\")\n",
    "plt.grid()\n",
    "plt.show()"
   ]
  },
  {
   "cell_type": "markdown",
   "metadata": {},
   "source": [
    "Now let us work with Fourier transforms!\n",
    "\n",
    "Here are the baiscs:"
   ]
  },
  {
   "cell_type": "code",
   "execution_count": null,
   "metadata": {},
   "outputs": [],
   "source": [
    "start = 0\n",
    "end = 10\n",
    "steps_number = 100\n",
    "times = np.linspace(start, end, steps_number)\n",
    "sine_wave = np.sin(times)\n",
    "\n",
    "plt.plot(times, sine_wave)\n",
    "plt.grid(True)\n",
    "plt.title('Basic Sine Wave')\n",
    "plt.show()\n",
    "\n",
    "# Compute the FFT of the chirp signal\n",
    "fft_sine = np.fft.fft(strain)\n",
    "fft_freq = np.fft.fftfreq(len(strain), d=times[1]-times[0])  # d is the sampling interval (dt)\n",
    "\n",
    "plt.plot(fft_freq, fft_sine)\n",
    "plt.xlabel(\"Amplidue\")\n",
    "plt.ylabel(\"Frequency\")\n",
    "plt.title(\"Gravitational Wave Chirp Signal\")\n",
    "plt.grid()\n",
    "plt.show()"
   ]
  },
  {
   "cell_type": "markdown",
   "metadata": {},
   "source": [
    "Now make more cells and try this on other waves we have made (or make your own!)"
   ]
  },
  {
   "cell_type": "markdown",
   "metadata": {},
   "source": [
    "Topic idea:\n",
    "Code a sinc function: https://en.wikipedia.org/wiki/Sinc_function"
   ]
  }
 ],
 "metadata": {
  "kernelspec": {
   "display_name": "base",
   "language": "python",
   "name": "python3"
  },
  "language_info": {
   "codemirror_mode": {
    "name": "ipython",
    "version": 3
   },
   "file_extension": ".py",
   "mimetype": "text/x-python",
   "name": "python",
   "nbconvert_exporter": "python",
   "pygments_lexer": "ipython3",
   "version": "3.10.13"
  }
 },
 "nbformat": 4,
 "nbformat_minor": 2
}
