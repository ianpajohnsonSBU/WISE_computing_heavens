{
 "cells": [
  {
   "cell_type": "markdown",
   "metadata": {},
   "source": [
    "# WISE COMPUTING HEAVENS: \n",
    "## Project: Binary Neutron Star Merger GW 170817\n",
    "Instructor: Ian Johnson\n",
    "\n",
    "Date: March 24 2025"
   ]
  },
  {
   "cell_type": "code",
   "execution_count": null,
   "metadata": {},
   "outputs": [],
   "source": [
    "import numpy as np \n",
    "import matplotlib.pyplot as plt\n",
    "from scipy.signal import butter, filtfilt, spectrogram"
   ]
  },
  {
   "cell_type": "code",
   "execution_count": null,
   "metadata": {},
   "outputs": [],
   "source": [
    "# Load data\n",
    "# Find your full file path\n",
    "data = np.loadtxt(\"H-H1_GWOSC_16KHZ_R1-1187008867-32.txt\")\n",
    "\n",
    "# Define time array\n",
    "fs = 16384  # Sampling rate in Hz\n",
    "duration = 32  # Seconds\n",
    "t = np.linspace(0, duration, len(data), endpoint=False)\n"
   ]
  },
  {
   "cell_type": "code",
   "execution_count": null,
   "metadata": {},
   "outputs": [],
   "source": [
    "\n",
    "# Cut the data around the merger \n",
    "start_time = 0\n",
    "end_time = 32\n",
    "\n",
    "# Find the indices corresponding to the time range\n",
    "start_idx = int(start_time * fs)\n",
    "end_idx = int(end_time * fs)\n",
    "\n",
    "# Slice the data and time array to the desired range\n",
    "data_cut = data[start_idx:end_idx]\n",
    "t_cut = t[start_idx:end_idx]\n",
    "\n",
    "# Plot the sliced data\n",
    "plt.figure(figsize=(10, 4))\n",
    "plt.plot(t_cut, data_cut, label=\"Cut Data\", alpha=0.7)\n",
    "plt.xlabel(\"Time (s)\")\n",
    "plt.ylabel(\"Strain\")\n",
    "plt.title(\"Gravitational Wave Data\")\n",
    "plt.legend()\n",
    "plt.show()\n"
   ]
  },
  {
   "cell_type": "code",
   "execution_count": null,
   "metadata": {},
   "outputs": [],
   "source": [
    "# Bandpass filter (20–300 Hz)\n",
    "def butter_bandpass_filter(data, lowcut=20, highcut=300, fs=4096, order=4):\n",
    "    nyquist = 0.5 * fs\n",
    "    low = lowcut / nyquist\n",
    "    high = highcut / nyquist\n",
    "    b, a = butter(order, [low, high], btype=\"band\")\n",
    "    return filtfilt(b, a, data)\n",
    "\n",
    "\n",
    "# Apply filter\n",
    "filtered_data = butter_bandpass_filter(data_cut, fs=fs, lowcut=20, highcut=300)\n",
    "\n",
    "\n",
    "# Plot filtered data\n",
    "plt.figure(figsize=(10, 4))\n",
    "plt.plot(t_cut, filtered_data, label=\"Filtered Data\", color=\"red\")\n",
    "plt.xlabel(\"Time (s)\")\n",
    "plt.ylabel(\"Strain\")\n",
    "plt.title(\"Filtered Gravitational Wave Data\")\n",
    "plt.legend()\n",
    "plt.show()"
   ]
  },
  {
   "cell_type": "code",
   "execution_count": null,
   "metadata": {},
   "outputs": [],
   "source": [
    "# Compute FFT of the cleaned signal\n",
    "N = len(filtered_data)\n",
    "fft_vals = np.fft.rfft(filtered_data)  # Compute real FFT\n",
    "freqs = np.fft.rfftfreq(N, 1/fs)  # Frequency axis\n",
    "\n",
    "# Plot power spectrum\n",
    "plt.figure(figsize=(10, 4))\n",
    "plt.plot(freqs, np.abs(fft_vals), color=\"blue\", label=\"Fourier Transform\")\n",
    "plt.xlim(0, 500)  # Focus on relevant GW frequency range\n",
    "plt.xlabel(\"Frequency (Hz)\")\n",
    "plt.ylabel(\"Magnitude\")\n",
    "# plt.ylim([0, np.max(np.abs(fft_vals))])\n",
    "plt.yscale('log')\n",
    "plt.title(\"Fourier Transform of Cleaned GW150914 Signal\")\n",
    "plt.legend()\n",
    "plt.show()"
   ]
  },
  {
   "cell_type": "code",
   "execution_count": null,
   "metadata": {},
   "outputs": [],
   "source": [
    "# Compute the spectrogram for 2D color plot\n",
    "offset_filtered_data = filtered_data - np.mean(filtered_data)\n",
    "\n",
    "nperseg_spec = fs//4  # Window size for spectrogram\n",
    "f_spec, t_spec, Sxx = spectrogram(offset_filtered_data, fs, nperseg=nperseg_spec, noverlap=fs//8)\n",
    "\n",
    "Sxx_normalized = Sxx/np.max(Sxx)\n",
    "\n",
    "# Edit y min/max to zoom\n",
    "y_plot_min = 20\n",
    "y_plot_max = 300\n",
    "\n",
    "mask = (f_spec > y_plot_min) & (f_spec < y_plot_max)  # Create a boolean mask\n",
    "Sxx_filtered = Sxx_normalized[mask, :]  # Apply mask to the correct axis\n",
    "f_spec_filtered = f_spec[mask]  # Keep frequency axis consistent\n",
    "\n",
    "Sxx_filtered = Sxx_filtered/np.max(Sxx_filtered)\n",
    "\n",
    "# Adjust color limits for better contrast\n",
    "vmin, vmax = np.percentile(Sxx_filtered, [0, 100]) # percentile ranges\n",
    "\n",
    "\n",
    "# Plot the 2D colorized PSD (Spectrogram)\n",
    "plt.pcolormesh(t_spec, f_spec_filtered, Sxx_filtered, shading=\"auto\", cmap=\"inferno\", vmin=vmin, vmax=vmax)\n",
    "plt.colorbar(label=\"Normalized Power Spectral Density\")\n",
    "plt.xlabel(\"Time (s)\")\n",
    "plt.ylabel(\"Frequency (Hz)\")\n",
    "plt.yscale(\"log\")\n",
    "plt.ylim(y_plot_min, y_plot_max)  # Focus on relevant GW range\n",
    "plt.title(\"Title\")\n",
    "plt.show()"
   ]
  },
  {
   "cell_type": "code",
   "execution_count": null,
   "metadata": {},
   "outputs": [],
   "source": []
  }
 ],
 "metadata": {
  "kernelspec": {
   "display_name": "base",
   "language": "python",
   "name": "python3"
  },
  "language_info": {
   "codemirror_mode": {
    "name": "ipython",
    "version": 3
   },
   "file_extension": ".py",
   "mimetype": "text/x-python",
   "name": "python",
   "nbconvert_exporter": "python",
   "pygments_lexer": "ipython3",
   "version": "3.10.13"
  }
 },
 "nbformat": 4,
 "nbformat_minor": 2
}
